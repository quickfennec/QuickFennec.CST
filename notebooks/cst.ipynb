{
 "cells": [
  {
   "cell_type": "markdown",
   "metadata": {},
   "source": [
    "# Caret-Separated Text\n",
    "\n",
    "Caret-Separated Text (or CST) is a key-value pair format represented by numbers as keys and the value is the string enclosed between carets (^) that contains the translation. Any text which is not enclosed with carets is considered a comment and ignored.\n",
    "\n",
    "## CST.NET\n",
    "\n",
    "CST.NET uses .NET's built-in indexing extension function to accomplish locating of each respective key. As a consequence, it does not matter what you use for keys. I added an additional normalizion to the pipeline that converts the document's line endings to the system's, in order to prevent crashes."
   ]
  },
  {
   "cell_type": "code",
   "execution_count": 1,
   "metadata": {},
   "source": [
    "using System.IO;"
   ],
   "outputs": []
  },
  {
   "cell_type": "code",
   "execution_count": 1,
   "metadata": {},
   "source": [
    "public static class CST\n",
    "{\n",
    "    public static string Parse(string cst, int key, params string[] args)\n",
    "    {\n",
    "        var entries = NormalizeEntries(cst);\n",
    "        return GetEntry(entries, $\"{key}\", args);\n",
    "    }\n",
    "\n",
    "    public static string Parse(string cst, string key, params string[] args)\n",
    "    {\n",
    "        var entries = NormalizeEntries(cst);\n",
    "        return GetEntry(entries, key, args);\n",
    "    }\n",
    "\n",
    "    static IEnumerable<string> NormalizeEntries(string cst)\n",
    "    {\n",
    "        var lineBreaks = new string[] { \"^\\u000A\", \"^\\u000D\", \"^\\u000A\" };\n",
    "\n",
    "        foreach (var line in lineBreaks)\n",
    "        {\n",
    "            var eol = Environment.NewLine; // System's line break\n",
    "\n",
    "            // If the new line matches the system's, do nothing\n",
    "            if (line.Contains(eol))\n",
    "                continue;\n",
    "\n",
    "            cst.Replace(line, eol);\n",
    "        }\n",
    "\n",
    "        return cst.Split(lineBreaks, StringSplitOptions.RemoveEmptyEntries);\n",
    "\n",
    "    }\n",
    "\n",
    "    // TODO: support argument parameters\n",
    "    static string GetEntry(IEnumerable<string> entries, string key, params string[] args)\n",
    "    {\n",
    "        var translation = \"[ENTRY NOT FOUND]\";\n",
    "\n",
    "        // Search through array\n",
    "        foreach (var entry in entries)\n",
    "        {\n",
    "            // Locate index, trim carets and return translation\n",
    "            if (!entry.StartsWith(key))\n",
    "                continue;\n",
    "                \n",
    "            const char caret = '^';\n",
    "            // const char token = '%';\n",
    "\n",
    "            var startIndex = entry.IndexOf(caret.ToString(),\n",
    "                StringComparison.OrdinalIgnoreCase);\n",
    "\n",
    "            var line = entry.Substring(startIndex);\n",
    "\n",
    "            /*foreach (var arg in args)\n",
    "                Regex.Replace(line, $\"%[1-100]\", arg);*/\n",
    "\n",
    "            translation = line.Trim(caret);\n",
    "        }\n",
    "\n",
    "        return translation;\n",
    "    }\n",
    "}"
   ],
   "outputs": []
  },
  {
   "cell_type": "code",
   "execution_count": 1,
   "metadata": {},
   "source": [
    "var v1Path = Path.Combine(Environment.CurrentDirectory, \"data\", \"v1.cst\");\n",
    "var v1File = File.ReadAllText(v1Path);\n",
    "var multiLine = CST.Parse(v1File, 1);\n",
    "var singleLine = CST.Parse(v1File, 2);\n",
    "Console.WriteLine($\"Single line:{Environment.NewLine}{singleLine}\");\n",
    "Console.WriteLine($\"Multiline:{Environment.NewLine}{multiLine}\");"
   ],
   "outputs": [
    {
     "output_type": "execute_result",
     "data": {
      "text/plain": "Single line:\r\nLorem ipsum dolor sit amet, consectetur adipiscing elit. Nunc pharetra nunc nec erat finibus efficitur. Duis non ullamcorper purus. Donec sit amet ultricies sapien. Sed lacinia sem eu nunc gravida, vitae tincidunt eros tempus. Quisque nibh est, tempus sit amet purus at, facilisis cursus ante. Nam nisi purus, vehicula sed magna ac, lobortis aliquam urna. Sed condimentum, felis a placerat tincidunt, est augue pulvinar turpis, eu dictum leo diam quis mi. Nulla non efficitur neque, sed efficitur orci. Aliquam quis libero consequat, convallis tortor sit amet, varius orci.\n\nOrci varius natoque penatibus et magnis dis parturient montes, nascetur ridiculus mus. Nunc vel dictum eros, vitae mattis risus. Curabitur eget nisi interdum, euismod nisl in, fermentum turpis. Morbi a feugiat lacus. Duis ligula felis, commodo quis sodales ac, congue sit amet tortor. Sed vulputate, velit id interdum convallis, purus nisl interdum lorem, sit amet aliquam lacus sapien ac neque. Proin sit amet ultricies mi.\r\n"
     },
     "execution_count": 1,
     "metadata": {}
    },
    {
     "output_type": "execute_result",
     "data": {
      "text/plain": "Multiline:\r\nLorem ipsum dolor sit amet, consectetur adipiscing elit. Proin ac dictum orci, at tincidunt nulla. Donec aliquet, eros non interdum posuere, ipsum sapien molestie nunc, nec facilisis libero ipsum et risus. In sed lorem vel ipsum placerat viverra.\r\n"
     },
     "execution_count": 1,
     "metadata": {}
    }
   ]
  },
  {
   "cell_type": "code",
   "execution_count": 1,
   "metadata": {},
   "source": [
    "var v2Path = Path.Combine(Environment.CurrentDirectory, \"data\", \"v2.cst\");\n",
    "var v2File = File.ReadAllText(v2Path);\n",
    "var multiLineV2 = CST.Parse(v2File, \"Multiline\");\n",
    "var singleLineV2 = CST.Parse(v2File, \"Singleline\");\n",
    "Console.WriteLine($\"Single line v2:{Environment.NewLine}{singleLineV2}\");\n",
    "Console.WriteLine($\"Multiline v2:{Environment.NewLine}{multiLineV2}\");"
   ],
   "outputs": [
    {
     "output_type": "execute_result",
     "data": {
      "text/plain": "Single line v2:\r\nLorem ipsum dolor sit amet, consectetur adipiscing elit. Sed ultricies nulla eu tortor mattis, dictum posuere lacus ornare. Maecenas a massa in ligula finibus luctus eu vitae nibh. Proin imperdiet dapibus mauris quis placerat.\r\n"
     },
     "execution_count": 1,
     "metadata": {}
    },
    {
     "output_type": "execute_result",
     "data": {
      "text/plain": "Multiline v2:\r\nLorem ipsum dolor sit amet, consectetur adipiscing elit. Nunc gravida nunc non justo pretium consectetur. Sed tempus libero ac ligula aliquam elementum. Duis vitae interdum leo. Sed semper nulla %1 a lectus dictum dictum. Ut mattis eu tortor in bibendum. Integer mattis tincidunt aliquet. Vestibulum ante ipsum primis in faucibus orci luctus et ultrices posuere cubilia Curae; Fusce quis orci nisl.\n\nQuisque vehicula, nisi ut scelerisque sodales, nisi ipsum sodales ipsum, in rutrum tellus lacus sed nibh. Etiam mauris velit, elementum sed placerat et, elementum et tellus. Duis vitae elit fermentum, viverra lorem in, lobortis elit. Maecenas eget nibh et lectus auctor dignissim.\r\n"
     },
     "execution_count": 1,
     "metadata": {}
    }
   ]
  }
 ],
 "metadata": {
  "kernelspec": {
   "display_name": ".NET (C#)",
   "language": "C#",
   "name": ".net-csharp"
  },
  "language_info": {
   "file_extension": ".cs",
   "mimetype": "text/x-csharp",
   "name": "C#",
   "pygments_lexer": "csharp",
   "version": "8.0"
  }
 },
 "nbformat": 4,
 "nbformat_minor": 4
}